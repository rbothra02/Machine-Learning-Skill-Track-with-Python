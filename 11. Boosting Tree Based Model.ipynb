{
 "cells": [
  {
   "cell_type": "markdown",
   "id": "ee365c3e",
   "metadata": {},
   "source": [
    "# Adaboost Classification in sklearn"
   ]
  },
  {
   "cell_type": "code",
   "execution_count": 4,
   "id": "7133bc73",
   "metadata": {},
   "outputs": [],
   "source": [
    "from sklearn.tree import DecisionTreeClassifier\n",
    "from sklearn.ensemble import AdaBoostClassifier\n",
    "from sklearn.metrics import roc_auc_score\n",
    "from sklearn.model_selection import train_test_split\n",
    "from sklearn import datasets"
   ]
  },
  {
   "cell_type": "code",
   "execution_count": 2,
   "id": "2608929b",
   "metadata": {},
   "outputs": [],
   "source": [
    "SEED =123"
   ]
  },
  {
   "cell_type": "code",
   "execution_count": 5,
   "id": "e0ab0b78",
   "metadata": {},
   "outputs": [],
   "source": [
    "brest_cancer = datasets.load_breast_cancer()"
   ]
  },
  {
   "cell_type": "code",
   "execution_count": 6,
   "id": "d415ccc7",
   "metadata": {},
   "outputs": [
    {
     "data": {
      "text/plain": [
       "dict_keys(['data', 'target', 'frame', 'target_names', 'DESCR', 'feature_names', 'filename'])"
      ]
     },
     "execution_count": 6,
     "metadata": {},
     "output_type": "execute_result"
    }
   ],
   "source": [
    "brest_cancer.keys()"
   ]
  },
  {
   "cell_type": "code",
   "execution_count": 7,
   "id": "034ba1b5",
   "metadata": {},
   "outputs": [],
   "source": [
    "X = brest_cancer.data"
   ]
  },
  {
   "cell_type": "code",
   "execution_count": 9,
   "id": "917aa209",
   "metadata": {},
   "outputs": [],
   "source": [
    "y = brest_cancer.target"
   ]
  },
  {
   "cell_type": "code",
   "execution_count": 11,
   "id": "a0734ab2",
   "metadata": {},
   "outputs": [],
   "source": [
    "X_train , X_test , y_train , y_test = train_test_split(X,y,test_size=0.2,random_state=SEED,stratify=y)"
   ]
  },
  {
   "cell_type": "code",
   "execution_count": 12,
   "id": "e56be0ab",
   "metadata": {},
   "outputs": [],
   "source": [
    "# Instantiate a classification tree 'dt'"
   ]
  },
  {
   "cell_type": "code",
   "execution_count": 13,
   "id": "b2119012",
   "metadata": {},
   "outputs": [],
   "source": [
    "dt = DecisionTreeClassifier(max_depth=1,random_state=SEED)"
   ]
  },
  {
   "cell_type": "code",
   "execution_count": 15,
   "id": "3d4fe062",
   "metadata": {},
   "outputs": [],
   "source": [
    "adb_clf= AdaBoostClassifier(base_estimator = dt , n_estimators = 100)"
   ]
  },
  {
   "cell_type": "code",
   "execution_count": 16,
   "id": "0e36cbda",
   "metadata": {},
   "outputs": [
    {
     "data": {
      "text/plain": [
       "AdaBoostClassifier(base_estimator=DecisionTreeClassifier(max_depth=1,\n",
       "                                                         random_state=123),\n",
       "                   n_estimators=100)"
      ]
     },
     "execution_count": 16,
     "metadata": {},
     "output_type": "execute_result"
    }
   ],
   "source": [
    "adb_clf.fit(X_train,y_train)"
   ]
  },
  {
   "cell_type": "code",
   "execution_count": 19,
   "id": "cc48112a",
   "metadata": {},
   "outputs": [],
   "source": [
    "y_pred_proba = adb_clf.predict_proba(X_test)[:,1]"
   ]
  },
  {
   "cell_type": "code",
   "execution_count": 20,
   "id": "767a43de",
   "metadata": {},
   "outputs": [
    {
     "name": "stdout",
     "output_type": "stream",
     "text": [
      "0.9993386243386243\n"
     ]
    }
   ],
   "source": [
    "print(roc_auc_score(y_test,y_pred_proba))"
   ]
  },
  {
   "cell_type": "markdown",
   "id": "c211e892",
   "metadata": {},
   "source": [
    "# Gradient Boosting"
   ]
  },
  {
   "cell_type": "code",
   "execution_count": 27,
   "id": "1c5aca1e",
   "metadata": {},
   "outputs": [],
   "source": [
    "from sklearn.ensemble import GradientBoostingRegressor\n",
    "from sklearn.metrics import mean_squared_error as MSE"
   ]
  },
  {
   "cell_type": "code",
   "execution_count": 22,
   "id": "2774033c",
   "metadata": {},
   "outputs": [],
   "source": [
    "boston = datasets.load_boston()"
   ]
  },
  {
   "cell_type": "code",
   "execution_count": 23,
   "id": "4b1b1026",
   "metadata": {},
   "outputs": [
    {
     "data": {
      "text/plain": [
       "dict_keys(['data', 'target', 'feature_names', 'DESCR', 'filename'])"
      ]
     },
     "execution_count": 23,
     "metadata": {},
     "output_type": "execute_result"
    }
   ],
   "source": [
    "boston.keys()"
   ]
  },
  {
   "cell_type": "code",
   "execution_count": 24,
   "id": "bc3c978f",
   "metadata": {},
   "outputs": [],
   "source": [
    "X = boston.data\n",
    "y = boston.target"
   ]
  },
  {
   "cell_type": "code",
   "execution_count": 28,
   "id": "82232660",
   "metadata": {},
   "outputs": [],
   "source": [
    "X_train , X_test , y_train , y_test = train_test_split(X,y,test_size=0.2,random_state=SEED)"
   ]
  },
  {
   "cell_type": "code",
   "execution_count": 29,
   "id": "4171ca54",
   "metadata": {},
   "outputs": [],
   "source": [
    "gbt = GradientBoostingRegressor(n_estimators=100,max_depth=2,random_state=SEED)"
   ]
  },
  {
   "cell_type": "code",
   "execution_count": 31,
   "id": "c19ff143",
   "metadata": {},
   "outputs": [
    {
     "data": {
      "text/plain": [
       "GradientBoostingRegressor(max_depth=2, random_state=123)"
      ]
     },
     "execution_count": 31,
     "metadata": {},
     "output_type": "execute_result"
    }
   ],
   "source": [
    "gbt.fit(X_train,y_train)"
   ]
  },
  {
   "cell_type": "code",
   "execution_count": 32,
   "id": "9984b071",
   "metadata": {},
   "outputs": [],
   "source": [
    "y_pred = gbt.predict(X_test)"
   ]
  },
  {
   "cell_type": "code",
   "execution_count": 33,
   "id": "53014dd1",
   "metadata": {},
   "outputs": [],
   "source": [
    "rmse = MSE(y_test,y_pred)**0.5"
   ]
  },
  {
   "cell_type": "code",
   "execution_count": 34,
   "id": "1dd35d54",
   "metadata": {},
   "outputs": [
    {
     "name": "stdout",
     "output_type": "stream",
     "text": [
      "3.836744471965462\n"
     ]
    }
   ],
   "source": [
    "print(rmse)"
   ]
  },
  {
   "cell_type": "markdown",
   "id": "8c4627d3",
   "metadata": {},
   "source": [
    "# Stochastic Gradient Boosting"
   ]
  },
  {
   "cell_type": "code",
   "execution_count": 35,
   "id": "96e06708",
   "metadata": {},
   "outputs": [],
   "source": [
    "sgbt = GradientBoostingRegressor(n_estimators=100,subsample=0.8,max_features=0.2,max_depth=2,random_state=SEED)"
   ]
  },
  {
   "cell_type": "code",
   "execution_count": 36,
   "id": "fb4ddc90",
   "metadata": {},
   "outputs": [
    {
     "data": {
      "text/plain": [
       "GradientBoostingRegressor(max_depth=2, max_features=0.2, random_state=123,\n",
       "                          subsample=0.8)"
      ]
     },
     "execution_count": 36,
     "metadata": {},
     "output_type": "execute_result"
    }
   ],
   "source": [
    "sgbt.fit(X_train,y_train)"
   ]
  },
  {
   "cell_type": "code",
   "execution_count": 37,
   "id": "3fe247b4",
   "metadata": {},
   "outputs": [],
   "source": [
    "y_pred = sgbt.predict(X_test)"
   ]
  },
  {
   "cell_type": "code",
   "execution_count": 38,
   "id": "c1327795",
   "metadata": {},
   "outputs": [],
   "source": [
    "rmse = MSE(y_test,y_pred)**0.5"
   ]
  },
  {
   "cell_type": "code",
   "execution_count": 39,
   "id": "69c92e67",
   "metadata": {},
   "outputs": [
    {
     "name": "stdout",
     "output_type": "stream",
     "text": [
      "3.718155886956643\n"
     ]
    }
   ],
   "source": [
    "print(rmse)"
   ]
  },
  {
   "cell_type": "code",
   "execution_count": null,
   "id": "326dd51b",
   "metadata": {},
   "outputs": [],
   "source": []
  }
 ],
 "metadata": {
  "kernelspec": {
   "display_name": "Python 3 (ipykernel)",
   "language": "python",
   "name": "python3"
  },
  "language_info": {
   "codemirror_mode": {
    "name": "ipython",
    "version": 3
   },
   "file_extension": ".py",
   "mimetype": "text/x-python",
   "name": "python",
   "nbconvert_exporter": "python",
   "pygments_lexer": "ipython3",
   "version": "3.9.7"
  }
 },
 "nbformat": 4,
 "nbformat_minor": 5
}
